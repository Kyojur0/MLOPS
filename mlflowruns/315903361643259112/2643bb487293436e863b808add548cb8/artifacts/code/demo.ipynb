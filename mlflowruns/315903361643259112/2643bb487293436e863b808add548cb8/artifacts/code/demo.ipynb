{
 "cells": [
  {
   "cell_type": "code",
   "execution_count": 1,
   "metadata": {},
   "outputs": [],
   "source": [
    "# importing necessary libraries\n",
    "import sys\n",
    "import numpy\n",
    "import pandas\n",
    "import random\n",
    "import logging\n",
    "import warnings\n",
    "import threading\n",
    "import mlflow.sklearn\n",
    "from itertools import cycle, islice\n",
    "from sklearn.linear_model import ElasticNet\n",
    "from sklearn.model_selection import train_test_split\n",
    "from sklearn.metrics import mean_absolute_error, mean_squared_error, r2_score"
   ]
  },
  {
   "cell_type": "code",
   "execution_count": 2,
   "metadata": {},
   "outputs": [],
   "source": [
    "logging.basicConfig(level=logging.WARN)\n",
    "logger = logging.getLogger(__name__)"
   ]
  },
  {
   "cell_type": "code",
   "execution_count": 3,
   "metadata": {},
   "outputs": [
    {
     "name": "stderr",
     "output_type": "stream",
     "text": [
      "2023/06/11 00:48:13 INFO mlflow.tracking.fluent: Experiment with name 'Wine Regression' does not exist. Creating a new experiment.\n"
     ]
    }
   ],
   "source": [
    "mlflow.set_tracking_uri('http://localhost:5000')\n",
    "mlflow.set_experiment(experiment_name='Wine Regression')\n",
    "tags = {\n",
    "    \"team\": \"Cold Red Wine\",\n",
    "    \"dataset\": \"Wine\",\n",
    "    \"release.version\": \"2.2.2\"\n",
    "}"
   ]
  },
  {
   "cell_type": "code",
   "execution_count": 4,
   "metadata": {},
   "outputs": [],
   "source": [
    "def eval_metrices(actual, pred):\n",
    "    root_mean_square_error = numpy.sqrt(mean_squared_error(actual, pred))\n",
    "    mean_abs_err = mean_absolute_error(actual, pred)\n",
    "    r2 = r2_score(actual, pred)\n",
    "    return root_mean_square_error, mean_abs_err, r2"
   ]
  },
  {
   "cell_type": "code",
   "execution_count": 12,
   "metadata": {},
   "outputs": [],
   "source": [
    "thread_lock = threading.Lock()\n",
    "\n",
    "def mlflow_func(alpha, l1_ratio, train_x, train_y, test_x, test_y, run_name):\n",
    "    with mlflow.start_run(run_name=run_name):\n",
    "        mlflow.set_tags(tags)\n",
    "        lr = ElasticNet(alpha=alpha, l1_ratio=l1_ratio, random_state=42)\n",
    "        lr.fit(train_x, train_y)\n",
    "        predicted_qualities = lr.predict(test_x)\n",
    "        (rmse, mae, r2) = eval_metrices(test_y, predicted_qualities)\n",
    "        \n",
    "        with thread_lock:\n",
    "            print(\"Elasticnet model (alpha=%f, l1_ratio=%f):\" % (alpha, l1_ratio))\n",
    "            print(\"  RMSE: %s\" % rmse)\n",
    "            print(\"  MAE: %s\" % mae)\n",
    "            print(\"  R2: %s\" % r2)\n",
    "            mlflow.log_param(\"alpha\", alpha)\n",
    "            mlflow.log_param(\"l1_ratio\", l1_ratio)\n",
    "            mlflow.log_metric(\"rmse\", rmse)\n",
    "            mlflow.log_metric(\"r2\", r2)\n",
    "            mlflow.log_metric(\"mae\", mae)\n",
    "            mlflow.sklearn.log_model(lr, \"model\")\n",
    "            mlflow.log_artifact(local_path='./demo.ipynb', artifact_path='code')"
   ]
  },
  {
   "cell_type": "code",
   "execution_count": null,
   "metadata": {},
   "outputs": [],
   "source": [
    "if __name__ == \"__main__\":\n",
    "    warnings.filterwarnings(\"ignore\")\n",
    "    # Read the wine-quality csv file\n",
    "    run_nams = ['Apples',        'Apricots',     'Asparagus', \n",
    "                'Avocados',      'Cherries',     'Basil', \n",
    "                'Beets',         'Blackberries', 'Blueberries', \n",
    "                'Boysenberries', 'Broccoli',     'Cabbage', \n",
    "                'Carrots',       'Collards',     'Corn', \n",
    "                'Cucumber',      'Eggplants']\n",
    "\n",
    "    csv_file_path = \"./winequality-red.csv\"\n",
    "    try:\n",
    "        data = pandas.read_csv(csv_file_path, sep=\";\")\n",
    "    except Exception as e:\n",
    "        logger.exception(\"Unable to read the CSV file. Error: %s\", e)\n",
    "    # Split the data into training and test sets. (0.75, 0.25) split.\n",
    "    train, test = train_test_split(data)\n",
    "    # The predicted column is \"quality\" which is a scalar from [3, 9]\n",
    "    train_x = train.drop([\"quality\"], axis=1)\n",
    "    test_x = test.drop([\"quality\"], axis=1)\n",
    "    train_y = train[[\"quality\"]]\n",
    "    test_y = test[[\"quality\"]]\n",
    "\n",
    "    iterations = 16\n",
    "    # Generate unique run names for each thread\n",
    "    unique_run_names = list(islice(cycle(run_nams), iterations))\n",
    "\n",
    "    # Execute threads\n",
    "    threads = []\n",
    "    for i, run_name in enumerate(unique_run_names):\n",
    "        alpha = round(random.random(), 1) # Default value\n",
    "        if len(sys.argv) > 1:\n",
    "            try:\n",
    "                alpha = float(sys.argv[1])\n",
    "            except ValueError:\n",
    "                print(\"Invalid float value provided. Using default value.\")\n",
    "        l1_ratio = round(random.random(), 1)  # Default value\n",
    "        if len(sys.argv) > 2:\n",
    "            try:\n",
    "                l1_ratio = float(sys.argv[2])\n",
    "            except ValueError:\n",
    "                print(\"Invalid float value provided for l1_ratio. Using default value.\")\n",
    "        thread = threading.Thread(\n",
    "            target=mlflow_func,\n",
    "            args=(alpha, l1_ratio, train_x, train_y, test_x, test_y, unique_run_names[i]),\n",
    "        )\n",
    "        thread.start()\n",
    "        threads.append(thread)\n",
    "\n",
    "    # Wait for all threads to finish\n",
    "    for thread in threads:\n",
    "        thread.join()"
   ]
  },
  {
   "cell_type": "code",
   "execution_count": null,
   "metadata": {},
   "outputs": [],
   "source": []
  }
 ],
 "metadata": {
  "kernelspec": {
   "display_name": "mlops-project",
   "language": "python",
   "name": "python3"
  },
  "language_info": {
   "codemirror_mode": {
    "name": "ipython",
    "version": 3
   },
   "file_extension": ".py",
   "mimetype": "text/x-python",
   "name": "python",
   "nbconvert_exporter": "python",
   "pygments_lexer": "ipython3",
   "version": "3.11.3"
  },
  "orig_nbformat": 4
 },
 "nbformat": 4,
 "nbformat_minor": 2
}
